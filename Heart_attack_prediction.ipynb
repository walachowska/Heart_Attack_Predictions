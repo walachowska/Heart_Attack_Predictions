{
 "cells": [
  {
   "cell_type": "markdown",
   "source": [
    "## Heart Attack Analysis & Prediction"
   ],
   "metadata": {
    "collapsed": false
   },
   "id": "1a71a2657d418dff"
  },
  {
   "cell_type": "markdown",
   "source": [
    "### 1. Data Analysis\n",
    "1.1 Basic information\n",
    "1.2 Types analysis\n",
    "1.3 Chcecking missing values\n",
    "1.4 Data balancing"
   ],
   "metadata": {
    "collapsed": false
   },
   "id": "e204eaa72010ca73"
  },
  {
   "cell_type": "code",
   "outputs": [
    {
     "name": "stdout",
     "output_type": "stream",
     "text": [
      "(303, 14)\n",
      "Column names: ['age', 'sex', 'cp', 'trtbps', 'chol', 'fbs', 'restecg', 'thalachh', 'exng', 'oldpeak', 'slp', 'caa', 'thall', 'output']\n",
      "   age  sex  cp  trtbps  chol  fbs  restecg  thalachh  exng  oldpeak  slp  \\\n",
      "0   63    1   3     145   233    1        0       150     0      2.3    0   \n",
      "1   37    1   2     130   250    0        1       187     0      3.5    0   \n",
      "2   41    0   1     130   204    0        0       172     0      1.4    2   \n",
      "3   56    1   1     120   236    0        1       178     0      0.8    2   \n",
      "4   57    0   0     120   354    0        1       163     1      0.6    2   \n",
      "\n",
      "   caa  thall  output  \n",
      "0    0      1       1  \n",
      "1    0      2       1  \n",
      "2    0      2       1  \n",
      "3    0      2       1  \n",
      "4    0      2       1  \n",
      "types;  age           int64\n",
      "sex           int64\n",
      "cp            int64\n",
      "trtbps        int64\n",
      "chol          int64\n",
      "fbs           int64\n",
      "restecg       int64\n",
      "thalachh      int64\n",
      "exng          int64\n",
      "oldpeak     float64\n",
      "slp           int64\n",
      "caa           int64\n",
      "thall         int64\n",
      "output        int64\n",
      "dtype: object\n",
      "null: age         0\n",
      "sex         0\n",
      "cp          0\n",
      "trtbps      0\n",
      "chol        0\n",
      "fbs         0\n",
      "restecg     0\n",
      "thalachh    0\n",
      "exng        0\n",
      "oldpeak     0\n",
      "slp         0\n",
      "caa         0\n",
      "thall       0\n",
      "output      0\n",
      "dtype: int64\n"
     ]
    },
    {
     "data": {
      "text/plain": "<Figure size 640x480 with 1 Axes>",
      "image/png": "[encoded data removed]"
     },
     "metadata": {},
     "output_type": "display_data"
    }
   ],
   "source": [
    "import pandas as pd\n",
    "import matplotlib.pyplot as plt \n",
    "\n",
    "df = pd.read_csv('heart.csv')\n",
    "print(df.shape)\n",
    "# Nazwy kolumn\n",
    "print(f'Column names:\\n {df.columns.tolist()}')\n",
    "# Wyświetlenie pierwszych kilku wierszy, aby sprawdzić, czy dane zostały poprawnie wczytane\n",
    "print(df.head())\n",
    "\n",
    "# Typy danych kolumn\n",
    "print(f'types:\\n {df.dtypes}')\n",
    "\n",
    "# Liczba brakujących wartości na kolumnę\n",
    "print(f'null occurrences:\\n, {df.isnull().sum()}')\n",
    "\n",
    "class_counts = df['output'].value_counts()\n",
    "# Tworzenie wykresu słupkowego dla balansu danych\n",
    "class_counts.plot(kind='bar')\n",
    "plt.title('Balance of Classes in Heart Disease Dataset')\n",
    "plt.xlabel('Class')\n",
    "plt.ylabel('Count')\n",
    "plt.xticks(ticks=[0, 1], labels=['No Heart Disease (0)', 'Heart Disease (1)'], rotation=0)\n",
    "plt.show()\n"
   ],
   "metadata": {
    "collapsed": false,
    "ExecuteTime": {
     "end_time": "2024-02-09T12:48:45.784066Z",
     "start_time": "2024-02-09T12:48:44.946470Z"
    }
   },
   "id": "83ee303e501ca8a9",
   "execution_count": 13
  },
  {
   "cell_type": "markdown",
   "source": [
    "Conclusion 1: There aren't any missing values.\n",
    "Conclusion 2: It can be seen that the number of cases for both classes (presence of heart disease (1) and absence of heart disease (0)) is comparable, suggesting relatively good balance of the data. This balance between classes is desirable in data analysis and predictive modeling because it helps prevent the model from being biased towards the dominant class."
   ],
   "metadata": {
    "collapsed": false
   },
   "id": "d8a84ecc378ec494"
  },
  {
   "cell_type": "markdown",
   "source": [
    "### Attributes definitions\n",
    "age - Age of the person\n",
    "sex - Gender of the person\n",
    "cp - Chest pain type\n",
    "- Value 1: typical angina\n",
    "- Value 2: atypical angina\n",
    "- Value 3: non-anginal pain\n",
    "- Value 4: asymptomatic\n",
    "trtbps - Resting blood pressure (in mm Hg)\n",
    "chol - Cholesterol in mg/dl fetched via BMI sensor\n",
    "fbs - (fasting blood sugar > 120 mg/dl) (1 = true; 0 = false)\n",
    "restecg - Resting electrocardiographic results\n",
    "thalachh - Maximum heart rate achieved\n",
    "exng - Exercise induced angina (1 = yes; 0 = no)\n",
    "oldpeak - ST depression induced by exercise relative to rest"
   ],
   "metadata": {
    "collapsed": false
   },
   "id": "7acf5baa6bad803f"
  },
  {
   "cell_type": "code",
   "outputs": [],
   "source": [],
   "metadata": {
    "collapsed": false
   },
   "id": "3baf6f0a4c96f633"
  }
 ],
 "metadata": {
  "kernelspec": {
   "display_name": "Python 3",
   "language": "python",
   "name": "python3"
  },
  "language_info": {
   "codemirror_mode": {
    "name": "ipython",
    "version": 2
   },
   "file_extension": ".py",
   "mimetype": "text/x-python",
   "name": "python",
   "nbconvert_exporter": "python",
   "pygments_lexer": "ipython2",
   "version": "2.7.6"
  }
 },
 "nbformat": 4,
 "nbformat_minor": 5
}
